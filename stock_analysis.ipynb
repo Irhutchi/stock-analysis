{
 "cells": [
  {
   "cell_type": "code",
   "execution_count": 28,
   "metadata": {
    "scrolled": true
   },
   "outputs": [],
   "source": [
    "from pandas_datareader import data\n",
    "import datetime\n",
    "# required modules for Bokeh\n",
    "from bokeh.plotting import figure, show, output_file\n",
    "from bokeh.models.annotations import Title\n",
    "\n",
    "\n",
    "startDate=datetime.datetime(2020,10,2)\n",
    "endDate=datetime.datetime(2021,1,29)\n",
    "\n",
    "#object type = DataFrame => store data in a var 'df'\n",
    "df=data.DataReader(name=\"BTC-EUR\",data_source=\"yahoo\",start=startDate,end=endDate)\n",
    "\n",
    "def inc_dec(close, open):\n",
    "    if close > open:\n",
    "        value=\"Increase\"\n",
    "    elif close < open:\n",
    "        value=\"Decrease\"\n",
    "    else:\n",
    "        valu=\"Equal\"\n",
    "    return value\n",
    "# assign values builds a list in a new Status column\n",
    "df[\"Status\"]=[inc_dec(close,open) for close, open in zip(df.Close,df.Open)]\n",
    "# avg between open and close price\n",
    "df[\"Middle\"]=(df.Open+df.Close)/2\n",
    "df[\"Height\"]=abs(df.Close-df.Open)\n",
    "\n",
    "# type(date_increase) # pandas.core.indexes.datetimes.DatetimeIndex\n",
    "\n",
    "# Build candlestick chart using Bokeh rectangle glyphs\n",
    "p=figure(x_axis_type='datetime', width=1000, height=300, sizing_mode='stretch_both')\n",
    "p.title.text = \"Candlestick Chart\"\n",
    "p.grid.grid_line_alpha=0.3  # horizontal grid line transparency\n",
    "\n",
    "# Hours to miliseconds\n",
    "hours_12=12*60*60*1000\n",
    "\n",
    "# four mandatory params for each candle:\n",
    "# 1. x-coord of rect centre point   2. y-coord of rect centre point\n",
    "# 3. width of rect   4. height of rect\n",
    "\n",
    "# Plot high, low line behind candle stick\n",
    "p.segment(df.index, df.High, df.index, df.Low, color=\"black\")\n",
    "\n",
    "# Plot candle sticks where close is gt than open - stock price is up for session\n",
    "p.rect(df.index[df.Status==\"Increase\"],df.Middle[df.Status==\"Increase\"], \n",
    "      hours_12, df.Height[df.Status==\"Increase\"], fill_color=\"#00ff40\", line_color=\"black\") # abs ensures a positive value always\n",
    "\n",
    "# Plot candle sticks where close is lt open - stock price is down for session\n",
    "p.rect(df.index[df.Status==\"Decrease\"],df.Middle[df.Status==\"Decrease\"], hours_12, \n",
    "       df.Height[df.Status==\"Decrease\"], fill_color=\"#ff4d4d\", line_color=\"black\") # abs ensures a positive value always\n",
    "\n",
    "\n",
    "output_file(\"CS.html\")\n",
    "show(p)\n"
   ]
  },
  {
   "cell_type": "code",
   "execution_count": null,
   "metadata": {},
   "outputs": [],
   "source": []
  }
 ],
 "metadata": {
  "kernelspec": {
   "display_name": "Python 3",
   "language": "python",
   "name": "python3"
  },
  "language_info": {
   "codemirror_mode": {
    "name": "ipython",
    "version": 3
   },
   "file_extension": ".py",
   "mimetype": "text/x-python",
   "name": "python",
   "nbconvert_exporter": "python",
   "pygments_lexer": "ipython3",
   "version": "3.8.3"
  }
 },
 "nbformat": 4,
 "nbformat_minor": 4
}
